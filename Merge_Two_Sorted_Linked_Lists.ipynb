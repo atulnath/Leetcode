{
  "nbformat": 4,
  "nbformat_minor": 0,
  "metadata": {
    "colab": {
      "provenance": [],
      "authorship_tag": "ABX9TyO8CPt1veJEbAcCtaWh9ZEZ",
      "include_colab_link": true
    },
    "kernelspec": {
      "name": "python3",
      "display_name": "Python 3"
    },
    "language_info": {
      "name": "python"
    }
  },
  "cells": [
    {
      "cell_type": "markdown",
      "metadata": {
        "id": "view-in-github",
        "colab_type": "text"
      },
      "source": [
        "<a href=\"https://colab.research.google.com/github/atulnath/Leetcode/blob/main/Merge_Two_Sorted_Linked_Lists.ipynb\" target=\"_parent\"><img src=\"https://colab.research.google.com/assets/colab-badge.svg\" alt=\"Open In Colab\"/></a>"
      ]
    },
    {
      "cell_type": "code",
      "execution_count": 4,
      "metadata": {
        "colab": {
          "base_uri": "https://localhost:8080/"
        },
        "id": "7W4qzhWgRXxP",
        "outputId": "99a21277-bfe6-4962-fd75-e0971644dfb2"
      },
      "outputs": [
        {
          "output_type": "stream",
          "name": "stdout",
          "text": [
            "0 2\n"
          ]
        }
      ],
      "source": [
        "#Two pointers (For opposite end)\n",
        "def two_pointers(arr: list[int], target):\n",
        "  left, right = 0, len(arr) -1\n",
        "  while left < right:\n",
        "    if arr[left] + arr[right] == target:\n",
        "      print(left, right)\n",
        "      return None\n",
        "    elif arr[left] + arr[right] < target:\n",
        "      left += 1\n",
        "    else:\n",
        "      right -= 1\n",
        "  return -1, -1\n",
        "\n",
        "two_pointers([2,3,4,5,6,7], 6)\n"
      ]
    },
    {
      "cell_type": "code",
      "source": [
        "class Solution:\n",
        "    def mergeTwoLists(self, list1: Optional[ListNode], list2: Optional[ListNode]) -> Optional[ListNode]:\n",
        "        head = ListNode()\n",
        "        current = head\n",
        "\n",
        "        while list1 and list2:\n",
        "\n",
        "            if(list1.val < list2.val):\n",
        "                current.next = list1\n",
        "                list1 = list1.next\n",
        "            else:\n",
        "                current.next = list2\n",
        "                list2 = list2.next\n",
        "\n",
        "            current = current.next\n",
        "        current.next = list1 or list2\n",
        "\n",
        "        return head.next\n"
      ],
      "metadata": {
        "id": "uPLlgph8Tt5c"
      },
      "execution_count": null,
      "outputs": []
    }
  ]
}