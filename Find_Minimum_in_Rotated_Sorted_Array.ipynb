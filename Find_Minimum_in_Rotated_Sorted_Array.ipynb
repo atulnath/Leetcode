{
  "nbformat": 4,
  "nbformat_minor": 0,
  "metadata": {
    "colab": {
      "provenance": [],
      "authorship_tag": "ABX9TyMGOhnWoX9ALp2dm+HJmPVh",
      "include_colab_link": true
    },
    "kernelspec": {
      "name": "python3",
      "display_name": "Python 3"
    },
    "language_info": {
      "name": "python"
    }
  },
  "cells": [
    {
      "cell_type": "markdown",
      "metadata": {
        "id": "view-in-github",
        "colab_type": "text"
      },
      "source": [
        "<a href=\"https://colab.research.google.com/github/atulnath/Leetcode/blob/main/Find_Minimum_in_Rotated_Sorted_Array.ipynb\" target=\"_parent\"><img src=\"https://colab.research.google.com/assets/colab-badge.svg\" alt=\"Open In Colab\"/></a>"
      ]
    },
    {
      "cell_type": "markdown",
      "source": [
        "  #It is a binary search algorithm\n",
        "\n",
        "        # Logic is as like binary search\n",
        "        # mid = (left item loc + right item loc)/2\n",
        "        # if mid item is grater than the right item.\n",
        "            #that means our item will be after mid item to the right side and to the end as we are searching\n",
        "            #minimum item.\n",
        "        #if mid item is smaller than right\n",
        "            #that means we need to go left side from mid item to find minimum item\n",
        "            #right=mid and left = 0\n",
        "\n",
        "            # in conclusion for if mid is bigger than right we go right side\n",
        "            # if it is less than right, we go left side"
      ],
      "metadata": {
        "id": "NZbJ7hUAlPeR"
      }
    },
    {
      "cell_type": "code",
      "execution_count": 5,
      "metadata": {
        "colab": {
          "base_uri": "https://localhost:8080/"
        },
        "id": "XKAu3ZBNlNNv",
        "outputId": "54b5393d-f678-4d7b-e944-61abb67f5e5e"
      },
      "outputs": [
        {
          "output_type": "execute_result",
          "data": {
            "text/plain": [
              "0"
            ]
          },
          "metadata": {},
          "execution_count": 5
        }
      ],
      "source": [
        "from typing import List\n",
        "def findMin( nums: List[int]) -> int:\n",
        "\n",
        "  left = 0\n",
        "  right= len(nums)-1\n",
        "\n",
        "  while left < right:\n",
        "\n",
        "    mid = (left + right)//2\n",
        "\n",
        "    if nums[mid] > nums[right]:\n",
        "      left = mid + 1\n",
        "    else:\n",
        "      right=mid\n",
        "  return nums[left]\n",
        "\n",
        "findMin([4,5,0,1,2,3])"
      ]
    }
  ]
}