{
  "nbformat": 4,
  "nbformat_minor": 0,
  "metadata": {
    "colab": {
      "provenance": [],
      "collapsed_sections": [
        "UbTAosh37nS6",
        "uR2Tnm1-O9sW",
        "QMUVxe7mS9D9"
      ],
      "authorship_tag": "ABX9TyM6FRunDN0j4paBfH+UOZ6v",
      "include_colab_link": true
    },
    "kernelspec": {
      "name": "python3",
      "display_name": "Python 3"
    },
    "language_info": {
      "name": "python"
    }
  },
  "cells": [
    {
      "cell_type": "markdown",
      "metadata": {
        "id": "view-in-github",
        "colab_type": "text"
      },
      "source": [
        "<a href=\"https://colab.research.google.com/github/atulnath/Leetcode/blob/main/leetcode_solution_set_1.ipynb\" target=\"_parent\"><img src=\"https://colab.research.google.com/assets/colab-badge.svg\" alt=\"Open In Colab\"/></a>"
      ]
    },
    {
      "cell_type": "markdown",
      "source": [
        "# **Two Sum**"
      ],
      "metadata": {
        "id": "UbTAosh37nS6"
      }
    },
    {
      "cell_type": "markdown",
      "source": [
        "brute force methods:"
      ],
      "metadata": {
        "id": "SGHATU8c7u7C"
      }
    },
    {
      "cell_type": "code",
      "source": [
        "from typing import List\n",
        "def twoSum( nums: List[int], target: int) -> List[int]:\n",
        "  for i in range(len(nums)):\n",
        "    for j in range(i+1,len(nums)):\n",
        "      if(nums[i] + nums[j] == target):\n",
        "        return [i, j]\n",
        "  return None\n",
        "\n",
        "print(twoSum(nums = [2,7,11,15], target = 9))"
      ],
      "metadata": {
        "colab": {
          "base_uri": "https://localhost:8080/"
        },
        "id": "N8HL1h2K70uC",
        "outputId": "b0e7f7c2-4915-4c9d-8f44-cd66e6f25eed"
      },
      "execution_count": null,
      "outputs": [
        {
          "output_type": "stream",
          "name": "stdout",
          "text": [
            "[0, 1]\n"
          ]
        }
      ]
    },
    {
      "cell_type": "markdown",
      "source": [
        "Two pass HashMap methods"
      ],
      "metadata": {
        "id": "8-WDQQ5v_fuJ"
      }
    },
    {
      "cell_type": "code",
      "source": [
        "from typing import List\n",
        "def twoSum( nums: List[int], target: int) -> List[int]:\n",
        "  dict = {}\n",
        "  for i, val in enumerate(nums):\n",
        "    dict[val] = i\n",
        "  for i, val in enumerate(nums):\n",
        "    remind = target - val\n",
        "    if remind in dict and dict[remind] != i:\n",
        "      return [i,dict.get(remind),]\n",
        "  return None\n",
        "\n",
        "print(twoSum(nums = [2,7,11,15], target = 9))"
      ],
      "metadata": {
        "colab": {
          "base_uri": "https://localhost:8080/"
        },
        "id": "4Eit_xFt_loC",
        "outputId": "a6936ce8-6869-4c23-a67a-27124c630803"
      },
      "execution_count": null,
      "outputs": [
        {
          "output_type": "stream",
          "name": "stdout",
          "text": [
            "[0, 1]\n"
          ]
        }
      ]
    },
    {
      "cell_type": "markdown",
      "source": [
        "One Pass HashMap"
      ],
      "metadata": {
        "id": "aOhWje72FwyK"
      }
    },
    {
      "cell_type": "code",
      "source": [
        "from typing import List\n",
        "def twoSum( nums: List[int], target: int) -> List[int]:\n",
        "  dict = {}\n",
        "  for i, val in enumerate(nums):\n",
        "    remind = target - val\n",
        "    if remind in dict:\n",
        "      return [dict.get(remind),i]\n",
        "    dict[val] = i\n",
        "  return None\n",
        "print(twoSum(nums = [2,7,11,15], target = 9))"
      ],
      "metadata": {
        "colab": {
          "base_uri": "https://localhost:8080/"
        },
        "id": "Ckfq4eOlF1lS",
        "outputId": "dbe54f11-4039-452c-b3f5-1718548aec20"
      },
      "execution_count": null,
      "outputs": [
        {
          "output_type": "stream",
          "name": "stdout",
          "text": [
            "[0, 1]\n"
          ]
        }
      ]
    },
    {
      "cell_type": "markdown",
      "source": [
        "Two Pointer Methods"
      ],
      "metadata": {
        "id": "Djxp5LoUHBek"
      }
    },
    {
      "cell_type": "code",
      "source": [
        "from typing import List\n",
        "def twoSum( nums: List[int], target: int) -> List[int]:\n",
        "  left, right = 0, len(nums)-1\n",
        "  while left < right:\n",
        "    sum = nums[left] + nums[right]\n",
        "    if(sum == target):\n",
        "      return [left, right]\n",
        "    elif sum < target:\n",
        "      left += 1\n",
        "    else:\n",
        "      right -= 1\n",
        "  return None\n",
        "print(twoSum(nums = [2,7,11,15], target = 9))"
      ],
      "metadata": {
        "colab": {
          "base_uri": "https://localhost:8080/"
        },
        "id": "eIKpX7xvHFgE",
        "outputId": "7f1c4c78-43fc-4d4c-a062-16f97be9c093"
      },
      "execution_count": null,
      "outputs": [
        {
          "output_type": "stream",
          "name": "stdout",
          "text": [
            "[0, 1]\n"
          ]
        }
      ]
    },
    {
      "cell_type": "markdown",
      "source": [
        "set based method"
      ],
      "metadata": {
        "id": "tPaOQ4pUNF9l"
      }
    },
    {
      "cell_type": "code",
      "source": [
        "from typing import List\n",
        "def twoSum( nums: List[int], target: int) -> List[int]:\n",
        "  seen = set()\n",
        "  val_index = {}\n",
        "  for i, val in enumerate(nums):\n",
        "    if val in seen:\n",
        "      return[val_index[target-val],i]\n",
        "    remind = target - val\n",
        "    seen.add(remind)\n",
        "    val_index[val] = i\n",
        "  return None\n",
        "print(twoSum(nums = [2,7,11,15], target = 9))"
      ],
      "metadata": {
        "colab": {
          "base_uri": "https://localhost:8080/"
        },
        "id": "RJ1c4yXSNJ6G",
        "outputId": "d10e71d3-3860-457f-f5c6-bba1f7f319d8"
      },
      "execution_count": null,
      "outputs": [
        {
          "output_type": "stream",
          "name": "stdout",
          "text": [
            "[0, 1]\n"
          ]
        }
      ]
    },
    {
      "cell_type": "markdown",
      "source": [
        "# **Best Time to Buy and Sell Stock**"
      ],
      "metadata": {
        "id": "uR2Tnm1-O9sW"
      }
    },
    {
      "cell_type": "code",
      "source": [
        "def maxProfit(prices: List[int]) -> int:\n",
        "  miniPrice = float(\"inf\")\n",
        "  maxProfit = 0\n",
        "  for price in prices:\n",
        "    if price < miniPrice:\n",
        "      miniPrice = price\n",
        "    else:\n",
        "      profit = price - miniPrice\n",
        "      maxProfit = max(profit, maxProfit)\n",
        "  return maxProfit\n",
        "print(maxProfit([7,6,4,3,1]))"
      ],
      "metadata": {
        "colab": {
          "base_uri": "https://localhost:8080/"
        },
        "id": "etyspWMEPMbd",
        "outputId": "5399d646-b14a-43e9-a8bb-38cfda368040"
      },
      "execution_count": null,
      "outputs": [
        {
          "output_type": "stream",
          "name": "stdout",
          "text": [
            "0\n"
          ]
        }
      ]
    },
    {
      "cell_type": "code",
      "source": [
        "def maxProfit(prices: List[int]) -> int:\n",
        "  left, right = 0, 1\n",
        "  maxP = 0\n",
        "\n",
        "  while right < len(prices):\n",
        "    if prices[left] < prices[right]:\n",
        "      profit = prices[right] - prices[left]\n",
        "      maxP = max(profit, maxP)\n",
        "    else:\n",
        "      left = right\n",
        "    right+=1\n",
        "  return maxP\n",
        "print(maxProfit([7,1,5,3,6,4]))"
      ],
      "metadata": {
        "colab": {
          "base_uri": "https://localhost:8080/"
        },
        "id": "gdobWMbgRoC_",
        "outputId": "bdfc850a-74c6-4aeb-87d9-e00e64c49638"
      },
      "execution_count": null,
      "outputs": [
        {
          "output_type": "stream",
          "name": "stdout",
          "text": [
            "5\n"
          ]
        }
      ]
    },
    {
      "cell_type": "markdown",
      "source": [
        "# **Contains Duplicate:**\n",
        "we need to find out duplicate item in the array. One Aproach to use two for loop to find match. second approach we can first sort it and they use for loop nlogn. third approach is to use HashSet to find duplicate entry."
      ],
      "metadata": {
        "id": "QMUVxe7mS9D9"
      }
    },
    {
      "cell_type": "code",
      "source": [
        "from typing import List\n",
        "def containsDuplicate(nums: List[int])-> bool:\n",
        "  mySet=set()\n",
        "  for num in nums:\n",
        "    if num in mySet:\n",
        "      return True\n",
        "    else:\n",
        "      mySet.add(num)\n",
        "  return False\n",
        "print(containsDuplicate([1,2,3,4]))\n",
        "\n"
      ],
      "metadata": {
        "colab": {
          "base_uri": "https://localhost:8080/"
        },
        "id": "1uidB5gBTBbN",
        "outputId": "eadd36f6-84f7-43e2-f45a-c8d0ae325265"
      },
      "execution_count": null,
      "outputs": [
        {
          "output_type": "stream",
          "name": "stdout",
          "text": [
            "False\n"
          ]
        }
      ]
    },
    {
      "cell_type": "markdown",
      "source": [
        "# Valid Anagram:\n",
        "for two string we need to check both of string charcter should match. i mean each character should present to each other.\n",
        "\n",
        "approach: first we will check the length of them. if different we will return false.\n",
        "\n",
        "we can use hashmap.\n",
        "claver approach is to use.\n",
        "for 26 english letter, we will use an array of length of 26.\n",
        "Now we can compare."
      ],
      "metadata": {
        "id": "4u0XDu2sWiQ_"
      }
    },
    {
      "cell_type": "code",
      "source": [
        "def isAnagram(s: str, t: str) -> bool:\n",
        "  myArr = [0]*26\n",
        "  if (len(s)!=len(t)):\n",
        "    return False\n",
        "  for i in range(len(s)):\n",
        "    myArr[ord(s[i]) - ord('a')] +=1\n",
        "    myArr[ord(t[i]) - ord('a')] -=1\n",
        "  for i in range(26):\n",
        "    if myArr[i] !=0:\n",
        "      return False\n",
        "  return True\n",
        "\n",
        "print(isAnagram( s = \"rat\", t = \"car\"))"
      ],
      "metadata": {
        "colab": {
          "base_uri": "https://localhost:8080/"
        },
        "id": "IpLNAfsMXGge",
        "outputId": "529bbe56-d887-43f9-fe0c-eef8edd55eb1"
      },
      "execution_count": null,
      "outputs": [
        {
          "output_type": "stream",
          "name": "stdout",
          "text": [
            "False\n"
          ]
        }
      ]
    },
    {
      "cell_type": "markdown",
      "source": [
        "# Group Anagrams:\n",
        "There will be many anagram, we need to arrange them accrodingly.\n",
        "\n",
        "solution is like previous example. for each string we will fill the the 26 size array based the character. when new anagram comes, we will add this to hashmap."
      ],
      "metadata": {
        "id": "Qh_10yEGmysj"
      }
    },
    {
      "cell_type": "code",
      "source": [
        "from typing import List\n",
        "def groupAnagrams(strs: List[str]) -> List[List[str]]:\n",
        "  myDict= {}\n",
        "  for eachword in strs:\n",
        "      sorted_list=\"\".join(sorted(eachword))\n",
        "      if sorted_list not in myDict:\n",
        "        myDict[sorted_list]=[]\n",
        "      myDict[sorted_list].append(eachword)\n",
        "  return list(myDict.values())\n",
        "\n",
        "print(groupAnagrams( [\"eat\",\"tea\",\"tan\",\"ate\",\"nat\",\"bat\"]))"
      ],
      "metadata": {
        "id": "hxYFL7XarRws",
        "colab": {
          "base_uri": "https://localhost:8080/"
        },
        "outputId": "54d63401-a6b6-4695-f100-9b995dcae17d"
      },
      "execution_count": null,
      "outputs": [
        {
          "output_type": "stream",
          "name": "stdout",
          "text": [
            "[['eat', 'tea', 'ate'], ['tan', 'nat'], ['bat']]\n"
          ]
        }
      ]
    },
    {
      "cell_type": "markdown",
      "source": [
        "# Top K Frequent Elements:\n",
        "we need to return top repeated elements in the list.\n",
        "First i will try to count the repeated numbers [1,1,1,2,2,3] from here and will save it in count hashmap. then we will create total n +1 number of basket for n number of number for easy code. bucket 0 will be empty always. now each buckct will fill number based on how many time it comes. for example 1 comes 3 times. so it will go to 3rd bucket. after that we will traverse the list from reverse and will check non-zero items, if found we will take until kth elements."
      ],
      "metadata": {
        "id": "wxBHfUsubJa6"
      }
    },
    {
      "cell_type": "code",
      "source": [
        "def topKFrequent(nums: List[int], k: int) -> List[int]:\n",
        "  count={}\n",
        "  for num in nums:\n",
        "    count[num] = count.get(num,0) + 1\n",
        "  bucket = [[] for _ in range(len(nums)+1)]\n",
        "  for key, val in count.items():\n",
        "    bucket[val].append(key)\n",
        "  returnList=[]\n",
        "  for element in range(len(nums),-1,-1):\n",
        "    if bucket[element]:\n",
        "      returnList.extend(bucket[element])\n",
        "      if len(returnList)>=k:\n",
        "        return returnList[:k]\n",
        "  return returnList\n",
        "print(topKFrequent( [1,1,1,2,2,3],3))"
      ],
      "metadata": {
        "colab": {
          "base_uri": "https://localhost:8080/"
        },
        "id": "7PkO_kICcHaw",
        "outputId": "9e0e8937-0804-4a06-bcdd-90efc8d3e0d3"
      },
      "execution_count": null,
      "outputs": [
        {
          "output_type": "stream",
          "name": "stdout",
          "text": [
            "[1, 2, 3]\n"
          ]
        }
      ]
    },
    {
      "cell_type": "markdown",
      "source": [
        "# Encode and Decode Strings:\n",
        "Input: [\"hello\", \"world\"]\n",
        "Encode: \"5#hello5#world\"\n",
        "decode: [\"hello\", \"world\"]\n",
        "\n",
        "For Encode: we will use python join function\n",
        "\n",
        "For decode:\n",
        "we will use the while loop for traverse the complete loop and\n",
        "for finding the length, we will check for '#' tocken.\n",
        "Here will need to substring by removing the length num substring + 1 for '#'"
      ],
      "metadata": {
        "id": "tAOPl4HUjGE1"
      }
    },
    {
      "cell_type": "code",
      "source": [
        "def encode(strs):\n",
        "  return \"\".join(f\"{len(eachString)}#{eachString}\" for eachString in strs)\n",
        "def decode(strs):\n",
        "  j = 0\n",
        "  result=[]\n",
        "  while j < len(strs):\n",
        "    i = j\n",
        "    while strs[i] != '#':\n",
        "      i += 1\n",
        "    length=int(strs[j:i])\n",
        "    result.append(strs[i+1:i+1+length]) # we will go after #, upto #, it is i\n",
        "    j =i+1+length\n",
        "  return result\n",
        "print(decode(\"5#hello5#world\"))"
      ],
      "metadata": {
        "colab": {
          "base_uri": "https://localhost:8080/"
        },
        "id": "S8RCGTfTjZoe",
        "outputId": "2d1945d9-e17f-4e90-f305-d4c301d1fdfa"
      },
      "execution_count": null,
      "outputs": [
        {
          "output_type": "stream",
          "name": "stdout",
          "text": [
            "['hello', 'world']\n"
          ]
        }
      ]
    },
    {
      "cell_type": "markdown",
      "source": [
        "Product of Array Except Self\n",
        "We will solve in two pass based on Prefix and Suffix\n",
        "\n",
        "First Pass:\n",
        " [2, 3, 4, 5]\n",
        " For 2 prefix is: 1\n",
        "Make Prefix:\n",
        "1 2 6 24\n",
        "\n",
        "Second pass:\n",
        "_ _ _ 1\n",
        "_ _ 5 1\n",
        "_ 20 5 1\n",
        "60 20 5 1\n",
        "\n",
        "Last for result: multiple both\n",
        "60 40 30 24"
      ],
      "metadata": {
        "id": "lcdnzUhHAZ83"
      }
    },
    {
      "cell_type": "code",
      "source": [
        "from typing import List\n",
        "def productExceptSelf( nums: List[int]) -> List[int]:\n",
        "  n = len(nums)\n",
        "  result = [1]*n\n",
        "\n",
        "  prefix = 1\n",
        "  for i in range(n):\n",
        "    result[i] = prefix\n",
        "    prefix *= nums[i]\n",
        "\n",
        "  suffix = 1\n",
        "  for i in range(n-1, -1,-1):\n",
        "    result[i] *= suffix\n",
        "    suffix *=nums[i]\n",
        "  return result\n",
        "print(productExceptSelf( [2, 3, 4, 5]))\n"
      ],
      "metadata": {
        "id": "UEwcvjvl4JTU",
        "colab": {
          "base_uri": "https://localhost:8080/"
        },
        "outputId": "c744fe19-0123-445a-f28d-abb360b0ad05"
      },
      "execution_count": null,
      "outputs": [
        {
          "output_type": "stream",
          "name": "stdout",
          "text": [
            "[60, 40, 30, 24]\n"
          ]
        }
      ]
    },
    {
      "cell_type": "markdown",
      "source": [
        "# Longest Consecutive Sequence:\n",
        "[100, 4, 200, 1, 3, 2] for this length will be 4, as we have longest sequence is 1-4\n",
        "\n",
        "to find we can use set as it will skip the repeative number after that we can count maximum length of sequence\n"
      ],
      "metadata": {
        "id": "PMx5sgloI-HV"
      }
    },
    {
      "cell_type": "code",
      "source": [
        "from typing import List\n",
        "def longestConsecutive(nums: List[int]) -> int:\n",
        "  if not nums:\n",
        "    return 0\n",
        "  #Keeping the number in set to skip repeative number\n",
        "  setList= set(nums)\n",
        "  maxLen = 0\n",
        "  for num in setList:\n",
        "    #new sequence if we did not see current number - previous number\n",
        "    if num-1 not in setList:\n",
        "      currentNum = num\n",
        "      currentLength = 1\n",
        "      #Now will check the next consective number if exists\n",
        "      while currentNum + 1 in setList:\n",
        "        currentLength += 1\n",
        "        currentNum += 1\n",
        "      maxLen = max(maxLen, currentLength)\n",
        "  return maxLen\n",
        "print(longestConsecutive([ 1,0,1,2]))\n"
      ],
      "metadata": {
        "colab": {
          "base_uri": "https://localhost:8080/"
        },
        "id": "T_tUM9ZHJbvt",
        "outputId": "d39adf6e-4d37-4978-d232-e8d94cba5a88"
      },
      "execution_count": null,
      "outputs": [
        {
          "output_type": "stream",
          "name": "stdout",
          "text": [
            "3\n"
          ]
        }
      ]
    },
    {
      "cell_type": "markdown",
      "source": [
        "# Valid Palindrome\n",
        "\n",
        "First we will convert all alphabet to convert to lower, for later easy comparison\n",
        "and we only keep alphabets and numbers and discard others\n",
        "\n",
        "we will use two pointers method. when match happen , we will decrease and increase both pointers"
      ],
      "metadata": {
        "id": "3g9RJ71Eas9E"
      }
    },
    {
      "cell_type": "code",
      "source": [
        "def isPalindrome( s: str) -> bool:\n",
        "  input = ''.join(c.lower() for c in s if c.isalnum()) # We will only keep alphabet and number\n",
        "  left, right = 0, len(input)-1\n",
        "  while left < right:\n",
        "    if input[left] != input[right]:\n",
        "      return False\n",
        "    left += 1\n",
        "    right -= 1\n",
        "  return True\n",
        "\n",
        "print(isPalindrome(\"tab a cat\"))"
      ],
      "metadata": {
        "colab": {
          "base_uri": "https://localhost:8080/"
        },
        "id": "i5cdGKDZbduT",
        "outputId": "3042701c-7287-4900-f114-2cd34470f997"
      },
      "execution_count": null,
      "outputs": [
        {
          "output_type": "stream",
          "name": "stdout",
          "text": [
            "False\n"
          ]
        }
      ]
    },
    {
      "cell_type": "markdown",
      "source": [
        "3Sum Problem:\n",
        "\n",
        "we will first sort the list to skip more than two duplication elements. we need to check duplicate three times in the code."
      ],
      "metadata": {
        "id": "uKz-3J4tf-zG"
      }
    },
    {
      "cell_type": "code",
      "source": [
        "from typing import List\n",
        "def threeSum(nums: List[int]) -> List[List[int]]:\n",
        "  nums.sort()\n",
        "  res = []\n",
        "  for index_of_first in range(len(nums)-2):\n",
        "    # we will check the duplicate element on the sorted list\n",
        "    if index_of_first > 0 and nums[index_of_first] == nums[index_of_first-1]:\n",
        "      continue\n",
        "\n",
        "    left_ptr, right_ptr = index_of_first+1, len(nums)-1\n",
        "\n",
        "    while(left_ptr < right_ptr):\n",
        "      is_zero = nums[index_of_first] + nums[left_ptr] + nums[right_ptr]\n",
        "\n",
        "      if is_zero == 0:\n",
        "        res.append([nums[index_of_first] , nums[left_ptr] , nums[right_ptr]])\n",
        "        left_ptr += 1\n",
        "        right_ptr -=1\n",
        "\n",
        "        #remove any duplicate elements from left and right side\n",
        "        while left_ptr < right_ptr and nums[right_ptr] == nums[right_ptr + 1]:\n",
        "          right_ptr -= 1\n",
        "        while left_ptr < right_ptr and nums[left_ptr] == nums[left_ptr-1]:\n",
        "          left_ptr += 1\n",
        "      elif is_zero < 0:\n",
        "        left_ptr += 1\n",
        "      else:\n",
        "        right_ptr -=1\n",
        "\n",
        "  return res\n",
        "print(threeSum([-1, 0, 1, 2, -1, -4]))\n",
        "\n"
      ],
      "metadata": {
        "colab": {
          "base_uri": "https://localhost:8080/"
        },
        "id": "FzGvosrtJKKD",
        "outputId": "ee9742d8-09cb-4d29-dc36-d25df37c4df1"
      },
      "execution_count": null,
      "outputs": [
        {
          "output_type": "stream",
          "name": "stdout",
          "text": [
            "[[-1, -1, 2], [-1, 0, 1]]\n"
          ]
        }
      ]
    }
  ]
}