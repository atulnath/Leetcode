{
  "nbformat": 4,
  "nbformat_minor": 0,
  "metadata": {
    "colab": {
      "provenance": [],
      "authorship_tag": "ABX9TyNJQ994+TsRNxAFgLvw+TvO",
      "include_colab_link": true
    },
    "kernelspec": {
      "name": "python3",
      "display_name": "Python 3"
    },
    "language_info": {
      "name": "python"
    }
  },
  "cells": [
    {
      "cell_type": "markdown",
      "metadata": {
        "id": "view-in-github",
        "colab_type": "text"
      },
      "source": [
        "<a href=\"https://colab.research.google.com/github/atulnath/Leetcode/blob/main/Longest_Substring_Without_Repeating_Characters.ipynb\" target=\"_parent\"><img src=\"https://colab.research.google.com/assets/colab-badge.svg\" alt=\"Open In Colab\"/></a>"
      ]
    },
    {
      "cell_type": "markdown",
      "source": [
        "We will use a dictionary which will track each character last position.\n",
        "\n",
        "we will start our window at 0 position, and each time we traverse new character, window size will be increase. each time a new character comes, we will check is"
      ],
      "metadata": {
        "id": "niDrfnT2QvTw"
      }
    },
    {
      "cell_type": "code",
      "source": [
        "def lengthOfLongestSubstring(s: str) -> int:\n",
        "  dictionary_to_keep_set_of_characters = {}\n",
        "\n",
        "  ptr_start = 0\n",
        "\n",
        "  max_length = 0\n",
        "\n",
        "  for each_character in range(len(s)):\n",
        "    current_character = s[each_character]\n",
        "    # we check is current character already in our dictionary\n",
        "    # also check if it in our current window, in order to check\n",
        "    # repeat charcter. if true, that means charcter is repeated\n",
        "    # we need to correct the window start\n",
        "    if (current_character in dictionary_to_keep_set_of_characters and\n",
        "        dictionary_to_keep_set_of_characters[current_character] >= ptr_start):\n",
        "      # so we skip the current and going to next character to make new window\n",
        "      ptr_start = dictionary_to_keep_set_of_characters[current_character] +1\n",
        "      # we put current character position in our dictionary\n",
        "      # so we track each character position\n",
        "    dictionary_to_keep_set_of_characters[current_character] = each_character\n",
        "\n",
        "    #Lets calculate the max length\n",
        "\n",
        "    # +1 because we start with 0\n",
        "    max_length = max(max_length, each_character - ptr_start + 1)\n",
        "  return max_length\n",
        "\n",
        "\n",
        "\n",
        "print(lengthOfLongestSubstring(\"xxxx\"))"
      ],
      "metadata": {
        "colab": {
          "base_uri": "https://localhost:8080/"
        },
        "id": "W8LPMWTgQ2v5",
        "outputId": "b859a8d0-3299-46f9-89cb-5270023544f2"
      },
      "execution_count": 12,
      "outputs": [
        {
          "output_type": "stream",
          "name": "stdout",
          "text": [
            "1\n"
          ]
        }
      ]
    }
  ]
}