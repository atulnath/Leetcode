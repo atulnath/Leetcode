{
  "nbformat": 4,
  "nbformat_minor": 0,
  "metadata": {
    "colab": {
      "provenance": [],
      "authorship_tag": "ABX9TyO3KGxn85MIWw3R6iqq4h9z",
      "include_colab_link": true
    },
    "kernelspec": {
      "name": "python3",
      "display_name": "Python 3"
    },
    "language_info": {
      "name": "python"
    }
  },
  "cells": [
    {
      "cell_type": "markdown",
      "metadata": {
        "id": "view-in-github",
        "colab_type": "text"
      },
      "source": [
        "<a href=\"https://colab.research.google.com/github/atulnath/Leetcode/blob/main/Minimum_Window_Substring.ipynb\" target=\"_parent\"><img src=\"https://colab.research.google.com/assets/colab-badge.svg\" alt=\"Open In Colab\"/></a>"
      ]
    },
    {
      "cell_type": "code",
      "source": [
        "def minWindow(s: str, t: str) -> str:\n",
        "  #if one of them is empty, we return empty string\n",
        "  if not s or not t:\n",
        "    return \"\"\n",
        "\n",
        "  #lets count the number of letters which are required\n",
        "  required_chars = {}\n",
        "  for each_char in t:\n",
        "    required_chars[each_char] = required_chars.get(each_char,0) +1\n",
        "\n",
        "  required_chars_len = len(required_chars)\n",
        "\n",
        "  found_chars = 0\n",
        "\n",
        "  chars_window = {}\n",
        "\n",
        "  min_len=float(\"inf\")\n",
        "  min_window_substr = \"\" #this one to return\n",
        "\n",
        "  ptr1 =  ptr2 = 0\n",
        "\n",
        "  while ptr2 < len(s):\n",
        "\n",
        "    current_chars = s[ptr2]\n",
        "    chars_window[current_chars] = chars_window.get(current_chars,0) +1\n",
        "\n",
        "    #check if we have all required chars in the chars window\n",
        "    if current_chars in required_chars and chars_window[current_chars] == required_chars[current_chars]:\n",
        "      found_chars += 1\n",
        "    # when we get all reqired charcters, then we try to minimize the size\n",
        "    while ptr1 <= ptr2 and found_chars == required_chars_len:\n",
        "      #Lets try with first chars with ptr1 location\n",
        "      inital_chars=s[ptr1]\n",
        "      upto_length_of_substring=ptr2 - ptr1 +1\n",
        "      #we are saving current length of substring as max\n",
        "      if upto_length_of_substring < min_len:\n",
        "        min_len = upto_length_of_substring\n",
        "        min_window_substr= s[ptr1:ptr2+1] #saving current min length substring\n",
        "\n",
        "      #Now removing 1 char from the left\n",
        "      chars_window[inital_chars] -= 1\n",
        "\n",
        "      #if initial char length become zero, we remove its count from the dictionary\n",
        "      if chars_window[inital_chars] == 0:\n",
        "        del chars_window[inital_chars]\n",
        "      # is this char in the required list, if yes, still checking num of it less than\n",
        "      # our required number, that means found char should be 1 less, as we have removed\n",
        "      if inital_chars in required_chars and chars_window.get(inital_chars,0) < required_chars[inital_chars]:\n",
        "        found_chars-=1\n",
        "      #lets go to next char from begining\n",
        "      ptr1 +=1\n",
        "    ptr2 += 1\n",
        "  return min_window_substr if min_len != float(\"inf\") else \"\"\n",
        "print(minWindow(\"ADOBECODEBANC\",\"ABC\"))"
      ],
      "metadata": {
        "colab": {
          "base_uri": "https://localhost:8080/"
        },
        "id": "grd7qD66OlhF",
        "outputId": "ea02dcd4-9134-4022-ebfe-a42ac5cf2b73"
      },
      "execution_count": 14,
      "outputs": [
        {
          "output_type": "stream",
          "name": "stdout",
          "text": [
            "BANC\n"
          ]
        }
      ]
    }
  ]
}