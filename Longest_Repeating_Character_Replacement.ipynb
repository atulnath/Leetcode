{
  "nbformat": 4,
  "nbformat_minor": 0,
  "metadata": {
    "colab": {
      "provenance": [],
      "authorship_tag": "ABX9TyOC7OwYh6kO1jFgQCJ1bA85",
      "include_colab_link": true
    },
    "kernelspec": {
      "name": "python3",
      "display_name": "Python 3"
    },
    "language_info": {
      "name": "python"
    }
  },
  "cells": [
    {
      "cell_type": "markdown",
      "metadata": {
        "id": "view-in-github",
        "colab_type": "text"
      },
      "source": [
        "<a href=\"https://colab.research.google.com/github/atulnath/Leetcode/blob/main/Longest_Repeating_Character_Replacement.ipynb\" target=\"_parent\"><img src=\"https://colab.research.google.com/assets/colab-badge.svg\" alt=\"Open In Colab\"/></a>"
      ]
    },
    {
      "cell_type": "code",
      "execution_count": 3,
      "metadata": {
        "colab": {
          "base_uri": "https://localhost:8080/"
        },
        "id": "eaukRbPg-b52",
        "outputId": "3abe100b-2664-431c-c272-d3a36bd7499b"
      },
      "outputs": [
        {
          "output_type": "execute_result",
          "data": {
            "text/plain": [
              "4"
            ]
          },
          "metadata": {},
          "execution_count": 3
        }
      ],
      "source": [
        "def characterReplacement(s: str, k: int) -> int:\n",
        "  frequencyDict = {}\n",
        "  max_len_same_character=0\n",
        "  max_frquency_same_character=0\n",
        "  start_char_pos = 0 #Window start at 0\n",
        "  for current_char in range(len(s)):\n",
        "    #for each character, we are saving its frequency\n",
        "    frequencyDict[s[current_char]] = frequencyDict.get(s[current_char],0) + 1\n",
        "    #We saving the maximum frequent charcters\n",
        "    max_frquency_same_character = max(max_frquency_same_character,frequencyDict[s[current_char]])\n",
        "    # upto the cuurent length, if we minus the maximum same character number, if it is grater than the maximum\n",
        "    # replaceable charcter, that means we can not put k character to make it maximum length substring\n",
        "    # so we will decrease the window from left\n",
        "    if (current_char - start_char_pos + 1) - max_frquency_same_character > k:\n",
        "      frequencyDict[s[start_char_pos]] -= 1 # as we removing the character from the window\n",
        "      start_char_pos += 1\n",
        "    max_frquency_same_character = max(max_frquency_same_character, current_char - start_char_pos + 1)\n",
        "  return max_frquency_same_character\n",
        "characterReplacement(\"XYYX\",1)"
      ]
    }
  ]
}