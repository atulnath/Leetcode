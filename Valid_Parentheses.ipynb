{
  "nbformat": 4,
  "nbformat_minor": 0,
  "metadata": {
    "colab": {
      "provenance": [],
      "authorship_tag": "ABX9TyNnBNJ3Fh1Ih4BZ67UyHF01",
      "include_colab_link": true
    },
    "kernelspec": {
      "name": "python3",
      "display_name": "Python 3"
    },
    "language_info": {
      "name": "python"
    }
  },
  "cells": [
    {
      "cell_type": "markdown",
      "metadata": {
        "id": "view-in-github",
        "colab_type": "text"
      },
      "source": [
        "<a href=\"https://colab.research.google.com/github/atulnath/Leetcode/blob/main/Valid_Parentheses.ipynb\" target=\"_parent\"><img src=\"https://colab.research.google.com/assets/colab-badge.svg\" alt=\"Open In Colab\"/></a>"
      ]
    },
    {
      "cell_type": "code",
      "execution_count": 15,
      "metadata": {
        "colab": {
          "base_uri": "https://localhost:8080/"
        },
        "id": "riggUPLwhJg1",
        "outputId": "12012658-1138-453c-fc89-fabbf17c2035"
      },
      "outputs": [
        {
          "output_type": "stream",
          "name": "stdout",
          "text": [
            "True\n"
          ]
        }
      ],
      "source": [
        "def isValid( s: str) -> bool:\n",
        "  if len(s)% 2 != 0:\n",
        "    return False\n",
        "  braket_map={'(': ')', '{': '}', '[' :']'}\n",
        "  stack = []\n",
        "  for braket in s:\n",
        "    if braket in braket_map.keys(): # if we have opening braket\n",
        "      stack.append(braket)\n",
        "    else:\n",
        "      if stack == []: # nothing to pop, or no opening braket\n",
        "        return False\n",
        "      close_bra = stack.pop()\n",
        "      if braket != braket_map[close_bra]: # FIFO, last ')' always match with (\n",
        "        return False\n",
        "  return stack == []\n",
        "print(isValid(\"[]\"))"
      ]
    }
  ]
}